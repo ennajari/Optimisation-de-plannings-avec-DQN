{
 "cells": [
  {
   "cell_type": "code",
   "execution_count": 234,
   "id": "6301a988",
   "metadata": {},
   "outputs": [],
   "source": [
    "import pandas as pd\n",
    "from sklearn.preprocessing import LabelEncoder\n",
    "import os\n",
    "import pickle"
   ]
  },
  {
   "cell_type": "code",
   "execution_count": 235,
   "id": "1d93de74",
   "metadata": {},
   "outputs": [],
   "source": [
    "# 1. Chargement des données\n",
    "cols_to_load = [\n",
    "    'TUACTDUR24',    # Durée de l'activité\n",
    "    'ACTIVITY_NAME', # Nom de l'activité\n",
    "    'TUSTARTTIM',    # Heure de début (format HH:MM:SS)\n",
    "    'TUDIARYDAY'     # Jour de la semaine\n",
    "]"
   ]
  },
  {
   "cell_type": "code",
   "execution_count": 237,
   "id": "06f368e3",
   "metadata": {},
   "outputs": [],
   "source": [
    "df = pd.read_csv(\"../Data/raw/atus_full_selected.csv\", usecols=cols_to_load)"
   ]
  },
  {
   "cell_type": "code",
   "execution_count": 238,
   "id": "f956fe71",
   "metadata": {},
   "outputs": [],
   "source": [
    "# 2. Nettoyage des données\n",
    "df = df.dropna()\n",
    "df = df.reset_index(drop=True)"
   ]
  },
  {
   "cell_type": "code",
   "execution_count": 239,
   "id": "6289dbb3",
   "metadata": {},
   "outputs": [],
   "source": [
    "# 3. Nouvelle fonction de conversion du temps\n",
    "def time_to_minutes(t):\n",
    "    \"\"\"Convertit HH:MM:SS en minutes depuis minuit\"\"\"\n",
    "    try:\n",
    "        hh, mm, ss = map(int, t.split(':'))\n",
    "        return hh * 60 + mm\n",
    "    except:\n",
    "        return 0  # Valeur par défaut si conversion échoue\n"
   ]
  },
  {
   "cell_type": "code",
   "execution_count": 240,
   "id": "60ec6911",
   "metadata": {},
   "outputs": [],
   "source": [
    "# Application de la conversion\n",
    "df['START_MINUTES'] = df['TUSTARTTIM'].apply(time_to_minutes)\n"
   ]
  },
  {
   "cell_type": "code",
   "execution_count": 241,
   "id": "dbcde875",
   "metadata": {},
   "outputs": [
    {
     "name": "stdout",
     "output_type": "stream",
     "text": [
      "Exemples de conversion:\n",
      "  TUSTARTTIM  START_MINUTES\n",
      "0   04:00:00            240\n",
      "1   05:00:00            300\n",
      "2   05:30:00            330\n",
      "3   15:30:00            930\n",
      "4   18:00:00           1080\n"
     ]
    }
   ],
   "source": [
    "# 4. Vérification des conversions\n",
    "print(\"Exemples de conversion:\")\n",
    "print(df[['TUSTARTTIM', 'START_MINUTES']].head())\n"
   ]
  },
  {
   "cell_type": "code",
   "execution_count": 242,
   "id": "b2118216",
   "metadata": {},
   "outputs": [],
   "source": [
    "# 5. Encodage et autres transformations\n",
    "activity_encoder = LabelEncoder()\n",
    "df['ACTIVITY_CODE'] = activity_encoder.fit_transform(df['ACTIVITY_NAME'])\n",
    "df['DAY_OF_WEEK'] = df['TUDIARYDAY'] - 1  # 0=dimanche, 6=samedi\n",
    "df['IS_WEEKEND'] = (df['DAY_OF_WEEK'] >= 5).astype(int)\n"
   ]
  },
  {
   "cell_type": "code",
   "execution_count": 243,
   "id": "84a362b5",
   "metadata": {},
   "outputs": [],
   "source": [
    "# 6. Sélection finale des colonnes\n",
    "final_columns = [\n",
    "    'ACTIVITY_CODE',\n",
    "    'TUACTDUR24',\n",
    "    'START_MINUTES',\n",
    "    'DAY_OF_WEEK',\n",
    "    'IS_WEEKEND'\n",
    "]\n",
    "final_df = df[final_columns]"
   ]
  },
  {
   "cell_type": "code",
   "execution_count": 244,
   "id": "d907082a",
   "metadata": {},
   "outputs": [],
   "source": [
    "# 7. Sauvegarde\n",
    "os.makedirs(\"../Data/processed\", exist_ok=True)\n",
    "final_df.to_csv(\"../Data/processed/cleaned_data.csv\", index=False)"
   ]
  },
  {
   "cell_type": "code",
   "execution_count": 245,
   "id": "f96a3225",
   "metadata": {},
   "outputs": [],
   "source": [
    "with open(\"../Data/processed/activity_encoder.pkl\", \"wb\") as f:\n",
    "    pickle.dump(activity_encoder, f)"
   ]
  },
  {
   "cell_type": "code",
   "execution_count": null,
   "id": "be5b0f1e",
   "metadata": {},
   "outputs": [],
   "source": []
  }
 ],
 "metadata": {
  "kernelspec": {
   "display_name": "base",
   "language": "python",
   "name": "python3"
  },
  "language_info": {
   "codemirror_mode": {
    "name": "ipython",
    "version": 3
   },
   "file_extension": ".py",
   "mimetype": "text/x-python",
   "name": "python",
   "nbconvert_exporter": "python",
   "pygments_lexer": "ipython3",
   "version": "3.12.9"
  }
 },
 "nbformat": 4,
 "nbformat_minor": 5
}
