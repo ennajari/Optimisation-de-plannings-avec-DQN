{
 "cells": [
  {
   "cell_type": "code",
   "execution_count": 1,
   "id": "7493a09a",
   "metadata": {},
   "outputs": [],
   "source": [
    "import pandas as pd\n",
    "from sklearn.preprocessing import LabelEncoder\n",
    "import os\n",
    "import pickle"
   ]
  },
  {
   "cell_type": "code",
   "execution_count": 2,
   "id": "85d1e7db",
   "metadata": {},
   "outputs": [],
   "source": [
    "# 1. Chargement des données\n",
    "cols_to_load = [\n",
    "    'TUACTDUR24',    # Durée de l'activité\n",
    "    'ACTIVITY_NAME', # Nom de l'activité\n",
    "    'TUSTARTTIM',    # Heure de début (format HH:MM:SS)\n",
    "    'TUDIARYDAY'     # Jour de la semaine\n",
    "]"
   ]
  },
  {
   "cell_type": "code",
   "execution_count": 3,
   "id": "e6813083",
   "metadata": {},
   "outputs": [],
   "source": [
    "df = pd.read_csv(\"../Data/raw/atus_full_selected.csv\", usecols=cols_to_load)\n"
   ]
  },
  {
   "cell_type": "code",
   "execution_count": 4,
   "id": "902d8d8e",
   "metadata": {},
   "outputs": [],
   "source": [
    "# 2. Nettoyage des données\n",
    "df = df.dropna()\n",
    "df = df.reset_index(drop=True)"
   ]
  },
  {
   "cell_type": "code",
   "execution_count": 5,
   "id": "c8f2c8c0",
   "metadata": {},
   "outputs": [],
   "source": [
    "# 3. Nouvelle fonction de conversion du temps\n",
    "def time_to_minutes(t):\n",
    "    \"\"\"Convertit HH:MM:SS en minutes depuis minuit\"\"\"\n",
    "    try:\n",
    "        hh, mm, ss = map(int, t.split(':'))\n",
    "        return hh * 60 + mm\n",
    "    except:\n",
    "        return 0  # Valeur par défaut si conversion échoue"
   ]
  },
  {
   "cell_type": "code",
   "execution_count": 6,
   "id": "c1306201",
   "metadata": {},
   "outputs": [],
   "source": [
    "# Application de la conversion\n",
    "df['START_MINUTES'] = df['TUSTARTTIM'].apply(time_to_minutes)"
   ]
  },
  {
   "cell_type": "code",
   "execution_count": 7,
   "id": "f601b69d",
   "metadata": {},
   "outputs": [
    {
     "name": "stdout",
     "output_type": "stream",
     "text": [
      "Exemples de conversion:\n",
      "  TUSTARTTIM  START_MINUTES\n",
      "0   04:00:00            240\n",
      "1   05:00:00            300\n",
      "2   05:30:00            330\n",
      "3   15:30:00            930\n",
      "4   18:00:00           1080\n"
     ]
    }
   ],
   "source": [
    "# 4. Vérification des conversions\n",
    "print(\"Exemples de conversion:\")\n",
    "print(df[['TUSTARTTIM', 'START_MINUTES']].head())"
   ]
  },
  {
   "cell_type": "code",
   "execution_count": 8,
   "id": "c7705dee",
   "metadata": {},
   "outputs": [],
   "source": [
    "# 5. Encodage et autres transformations\n",
    "activity_encoder = LabelEncoder()\n",
    "df['ACTIVITY_CODE'] = activity_encoder.fit_transform(df['ACTIVITY_NAME'])"
   ]
  },
  {
   "cell_type": "code",
   "execution_count": 9,
   "id": "5fa90645",
   "metadata": {},
   "outputs": [],
   "source": [
    "df['DAY_OF_WEEK'] = df['TUDIARYDAY'] - 1  # 0=dimanche, 6=samedi\n",
    "df['IS_WEEKEND'] = (df['DAY_OF_WEEK'] >= 5).astype(int)\n"
   ]
  },
  {
   "cell_type": "code",
   "execution_count": 10,
   "id": "09cfdccd",
   "metadata": {},
   "outputs": [],
   "source": [
    "# 6. Sélection finale des colonnes\n",
    "final_columns = [\n",
    "    'ACTIVITY_CODE',\n",
    "    'TUACTDUR24',\n",
    "    'START_MINUTES',\n",
    "    'DAY_OF_WEEK',\n",
    "    'IS_WEEKEND'\n",
    "]\n",
    "final_df = df[final_columns]"
   ]
  },
  {
   "cell_type": "code",
   "execution_count": 11,
   "id": "036e63cc",
   "metadata": {},
   "outputs": [
    {
     "name": "stdout",
     "output_type": "stream",
     "text": [
      "Prétraitement terminé avec succès!\n"
     ]
    }
   ],
   "source": [
    "# 7. Sauvegarde\n",
    "os.makedirs(\"../Data/processed\", exist_ok=True)\n",
    "final_df.to_csv(\"../Data/processed/cleaned_data.csv\", index=False)\n",
    "\n",
    "with open(\"../Data/processed/activity_encoder.pkl\", \"wb\") as f:\n",
    "    pickle.dump(activity_encoder, f)\n",
    "\n",
    "print(\"Prétraitement terminé avec succès!\")"
   ]
  },
  {
   "cell_type": "code",
   "execution_count": null,
   "id": "40a485d8",
   "metadata": {},
   "outputs": [],
   "source": []
  }
 ],
 "metadata": {
  "kernelspec": {
   "display_name": "base",
   "language": "python",
   "name": "python3"
  },
  "language_info": {
   "codemirror_mode": {
    "name": "ipython",
    "version": 3
   },
   "file_extension": ".py",
   "mimetype": "text/x-python",
   "name": "python",
   "nbconvert_exporter": "python",
   "pygments_lexer": "ipython3",
   "version": "3.12.9"
  }
 },
 "nbformat": 4,
 "nbformat_minor": 5
}
