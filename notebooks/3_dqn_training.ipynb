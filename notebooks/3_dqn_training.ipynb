{
 "cells": [
  {
   "cell_type": "code",
   "execution_count": 13,
   "id": "9f85aa22",
   "metadata": {},
   "outputs": [],
   "source": [
    "import numpy as np\n",
    "import pandas as pd\n",
    "import tensorflow as tf\n",
    "from collections import deque\n",
    "import random\n",
    "import matplotlib.pyplot as plt\n",
    "from tqdm import tqdm\n",
    "import os\n",
    "import sys\n"
   ]
  },
  {
   "cell_type": "code",
   "execution_count": 14,
   "id": "2afdb4a0",
   "metadata": {},
   "outputs": [],
   "source": [
    "# Ajouter le chemin du dossier parent (si besoin d'importer ScheduleEnv)\n",
    "parent_dir = os.path.abspath(os.path.join(os.getcwd(), '..'))\n",
    "sys.path.append(parent_dir)\n",
    "from environment.schedule_env import ScheduleEnv"
   ]
  },
  {
   "cell_type": "code",
   "execution_count": 15,
   "id": "58c10fb4",
   "metadata": {},
   "outputs": [],
   "source": [
    "# 1. Chargement des données\n",
    "df = pd.read_csv(\"../Data/processed/cleaned_data.csv\")"
   ]
  },
  {
   "cell_type": "code",
   "execution_count": 16,
   "id": "01208f34",
   "metadata": {},
   "outputs": [
    {
     "name": "stdout",
     "output_type": "stream",
     "text": [
      "\n",
      "✅ Environnement créé avec 18 actions possibles\n"
     ]
    },
    {
     "name": "stderr",
     "output_type": "stream",
     "text": [
      "c:\\Users\\Abdel\\anaconda3\\Lib\\site-packages\\gym\\spaces\\box.py:84: UserWarning: \u001b[33mWARN: Box bound precision lowered by casting to float32\u001b[0m\n",
      "  logger.warn(f\"Box bound precision lowered by casting to {self.dtype}\")\n"
     ]
    }
   ],
   "source": [
    "# 2. Initialiser l'environnement\n",
    "env = ScheduleEnv(df)\n",
    "print(f\"\\n✅ Environnement créé avec {env.action_space.n} actions possibles\")\n"
   ]
  },
  {
   "cell_type": "code",
   "execution_count": 17,
   "id": "f52da5fd",
   "metadata": {},
   "outputs": [],
   "source": [
    "# 3. Paramètres du DQN\n",
    "state_size = 3\n",
    "action_size = env.action_space.n\n",
    "memory = deque(maxlen=2000)\n",
    "batch_size = 32\n",
    "gamma = 0.95\n",
    "epsilon = 1.0\n",
    "epsilon_min = 0.01\n",
    "epsilon_decay = 0.995"
   ]
  },
  {
   "cell_type": "code",
   "execution_count": 18,
   "id": "064cac53",
   "metadata": {},
   "outputs": [
    {
     "name": "stderr",
     "output_type": "stream",
     "text": [
      "c:\\Users\\Abdel\\anaconda3\\Lib\\site-packages\\keras\\src\\layers\\core\\dense.py:87: UserWarning: Do not pass an `input_shape`/`input_dim` argument to a layer. When using Sequential models, prefer using an `Input(shape)` object as the first layer in the model instead.\n",
      "  super().__init__(activity_regularizer=activity_regularizer, **kwargs)\n"
     ]
    }
   ],
   "source": [
    "# 4. Création du modèle DQN\n",
    "model = tf.keras.Sequential([\n",
    "    tf.keras.layers.Dense(24, input_dim=state_size, activation='relu'),\n",
    "    tf.keras.layers.Dense(24, activation='relu'),\n",
    "    tf.keras.layers.Dense(action_size, activation='linear')\n",
    "])\n",
    "model.compile(loss='mse', optimizer=tf.keras.optimizers.Adam(0.001))\n"
   ]
  },
  {
   "cell_type": "code",
   "execution_count": 20,
   "id": "4fe804dc",
   "metadata": {},
   "outputs": [],
   "source": [
    "def update_plots(rewards, mean_rewards, epsilons, losses):\n",
    "    ax1.clear()\n",
    "    ax2.clear()\n",
    "    \n",
    "    ax1.plot(rewards, label='Récompense par épisode', alpha=0.4)\n",
    "    ax1.plot(mean_rewards, label='Moyenne glissante (20)', color='red')\n",
    "    ax1.set_title('Évolution des récompenses')\n",
    "    ax1.set_xlabel('Épisode')\n",
    "    ax1.set_ylabel('Récompense')\n",
    "    ax1.legend()\n",
    "    ax1.grid(True)\n",
    "\n",
    "    ax2.plot(epsilons, label='Epsilon', color='green')\n",
    "    if losses:\n",
    "        ax2.plot(losses, label='Perte (Loss)', color='orange')\n",
    "    ax2.set_title(\"Évolution de l'epsilon et des pertes\")\n",
    "    ax2.set_xlabel(\"Épisode\")\n",
    "    ax2.legend()\n",
    "    ax2.grid(True)\n",
    "\n",
    "    plt.tight_layout()\n",
    "    plt.draw()\n",
    "    plt.pause(0.001)"
   ]
  },
  {
   "cell_type": "code",
   "execution_count": 21,
   "id": "76f12a48",
   "metadata": {},
   "outputs": [],
   "source": [
    "\n",
    "# 6. Entraînement du DQN\n",
    "def train_dqn(episodes=300):\n",
    "    global epsilon\n",
    "    rewards_history = []\n",
    "    epsilons = []\n",
    "    mean_rewards = []\n",
    "    loss_history = []\n",
    "\n",
    "    progress_bar = tqdm(range(episodes), desc=\"🔁 Entraînement DQN\", unit=\"episode\")\n",
    "\n",
    "    for episode in progress_bar:\n",
    "        state = env.reset()\n",
    "        state = np.reshape(state, [1, state_size])\n",
    "        total_reward = 0\n",
    "        done = False\n",
    "        episode_loss = []\n",
    "\n",
    "        while not done:\n",
    "            if np.random.rand() <= epsilon:\n",
    "                action = random.randrange(action_size)\n",
    "            else:\n",
    "                action = np.argmax(model.predict(state, verbose=0)[0])\n",
    "\n",
    "            next_state, reward, done, _ = env.step(action)\n",
    "            next_state = np.reshape(next_state, [1, state_size])\n",
    "\n",
    "            memory.append((state, action, reward, next_state, done))\n",
    "            state = next_state\n",
    "            total_reward += reward\n",
    "\n",
    "            if len(memory) >= batch_size:\n",
    "                minibatch = random.sample(memory, batch_size)\n",
    "                states = np.array([x[0][0] for x in minibatch])\n",
    "                actions = np.array([x[1] for x in minibatch])\n",
    "                rewards = np.array([x[2] for x in minibatch])\n",
    "                next_states = np.array([x[3][0] for x in minibatch])\n",
    "                dones = np.array([x[4] for x in minibatch])\n",
    "\n",
    "                targets = model.predict(states, verbose=0)\n",
    "                next_q_values = model.predict(next_states, verbose=0)\n",
    "\n",
    "                for i in range(batch_size):\n",
    "                    if dones[i]:\n",
    "                        targets[i][actions[i]] = rewards[i]\n",
    "                    else:\n",
    "                        targets[i][actions[i]] = rewards[i] + gamma * np.max(next_q_values[i])\n",
    "\n",
    "                history = model.fit(states, targets, epochs=1, verbose=0)\n",
    "                episode_loss.append(history.history['loss'][0])\n",
    "\n",
    "        # Mise à jour epsilon\n",
    "        epsilon = max(epsilon_min, epsilon * epsilon_decay)\n",
    "        rewards_history.append(total_reward)\n",
    "        epsilons.append(epsilon)\n",
    "        loss_history.append(np.mean(episode_loss) if episode_loss else 0)\n",
    "\n",
    "        # Moyenne glissante\n",
    "        window_size = 20\n",
    "        if episode >= window_size:\n",
    "            mean_rewards.append(np.mean(rewards_history[-window_size:]))\n",
    "        else:\n",
    "            mean_rewards.append(np.mean(rewards_history))\n",
    "\n",
    "        progress_bar.set_postfix({\n",
    "            'Reward': f\"{total_reward:.1f}\",\n",
    "            'Epsilon': f\"{epsilon:.2f}\",\n",
    "            'AvgReward': f\"{mean_rewards[-1]:.1f}\",\n",
    "            'Loss': f\"{loss_history[-1]:.4f}\" if episode_loss else \"N/A\"\n",
    "        })\n",
    "\n",
    "        if episode % 10 == 0:\n",
    "            update_plots(rewards_history, mean_rewards, epsilons, loss_history)\n",
    "\n",
    "    plt.ioff()\n",
    "    plt.show()\n",
    "    return rewards_history, mean_rewards, loss_history"
   ]
  },
  {
   "cell_type": "code",
   "execution_count": 22,
   "id": "654ce6b3",
   "metadata": {},
   "outputs": [
    {
     "name": "stdout",
     "output_type": "stream",
     "text": [
      "\n",
      "🚀 Début de l'entraînement...\n"
     ]
    },
    {
     "name": "stderr",
     "output_type": "stream",
     "text": [
      "🔁 Entraînement DQN:   0%|          | 0/300 [00:00<?, ?episode/s, Reward=-1.2, Epsilon=0.99, AvgReward=-1.2, Loss=N/A]"
     ]
    },
    {
     "data": {
      "text/plain": [
       "<Figure size 640x480 with 0 Axes>"
      ]
     },
     "metadata": {},
     "output_type": "display_data"
    },
    {
     "name": "stderr",
     "output_type": "stream",
     "text": [
      "🔁 Entraînement DQN:   3%|▎         | 10/300 [00:31<15:59,  3.31s/episode, Reward=-0.1, Epsilon=0.95, AvgReward=1.0, Loss=9.4303]"
     ]
    },
    {
     "data": {
      "text/plain": [
       "<Figure size 640x480 with 0 Axes>"
      ]
     },
     "metadata": {},
     "output_type": "display_data"
    },
    {
     "name": "stderr",
     "output_type": "stream",
     "text": [
      "🔁 Entraînement DQN:   7%|▋         | 20/300 [01:04<15:41,  3.36s/episode, Reward=3.7, Epsilon=0.90, AvgReward=1.4, Loss=57.9210] "
     ]
    },
    {
     "data": {
      "text/plain": [
       "<Figure size 640x480 with 0 Axes>"
      ]
     },
     "metadata": {},
     "output_type": "display_data"
    },
    {
     "name": "stderr",
     "output_type": "stream",
     "text": [
      "🔁 Entraînement DQN:  10%|█         | 30/300 [02:00<29:52,  6.64s/episode, Reward=0.9, Epsilon=0.86, AvgReward=1.1, Loss=831.3562] "
     ]
    },
    {
     "data": {
      "text/plain": [
       "<Figure size 640x480 with 0 Axes>"
      ]
     },
     "metadata": {},
     "output_type": "display_data"
    },
    {
     "name": "stderr",
     "output_type": "stream",
     "text": [
      "🔁 Entraînement DQN:  13%|█▎        | 40/300 [03:02<28:51,  6.66s/episode, Reward=0.6, Epsilon=0.81, AvgReward=0.8, Loss=4237.1711] "
     ]
    },
    {
     "data": {
      "text/plain": [
       "<Figure size 640x480 with 0 Axes>"
      ]
     },
     "metadata": {},
     "output_type": "display_data"
    },
    {
     "name": "stderr",
     "output_type": "stream",
     "text": [
      "🔁 Entraînement DQN:  17%|█▋        | 50/300 [03:54<16:12,  3.89s/episode, Reward=-0.5, Epsilon=0.77, AvgReward=0.7, Loss=6177.3758]"
     ]
    },
    {
     "data": {
      "text/plain": [
       "<Figure size 640x480 with 0 Axes>"
      ]
     },
     "metadata": {},
     "output_type": "display_data"
    },
    {
     "name": "stderr",
     "output_type": "stream",
     "text": [
      "🔁 Entraînement DQN:  20%|██        | 60/300 [04:27<13:27,  3.37s/episode, Reward=0.5, Epsilon=0.74, AvgReward=0.4, Loss=4623.1569] "
     ]
    },
    {
     "data": {
      "text/plain": [
       "<Figure size 640x480 with 0 Axes>"
      ]
     },
     "metadata": {},
     "output_type": "display_data"
    },
    {
     "name": "stderr",
     "output_type": "stream",
     "text": [
      "🔁 Entraînement DQN:  23%|██▎       | 70/300 [05:02<13:08,  3.43s/episode, Reward=3.4, Epsilon=0.70, AvgReward=0.2, Loss=2380.5593]  "
     ]
    },
    {
     "data": {
      "text/plain": [
       "<Figure size 640x480 with 0 Axes>"
      ]
     },
     "metadata": {},
     "output_type": "display_data"
    },
    {
     "name": "stderr",
     "output_type": "stream",
     "text": [
      "🔁 Entraînement DQN:  27%|██▋       | 80/300 [05:38<13:04,  3.57s/episode, Reward=1.6, Epsilon=0.67, AvgReward=0.3, Loss=1143.5343] "
     ]
    },
    {
     "data": {
      "text/plain": [
       "<Figure size 640x480 with 0 Axes>"
      ]
     },
     "metadata": {},
     "output_type": "display_data"
    },
    {
     "name": "stderr",
     "output_type": "stream",
     "text": [
      "🔁 Entraînement DQN:  30%|███       | 90/300 [06:12<11:46,  3.37s/episode, Reward=-1.3, Epsilon=0.63, AvgReward=-0.2, Loss=1286.4577]"
     ]
    },
    {
     "data": {
      "text/plain": [
       "<Figure size 640x480 with 0 Axes>"
      ]
     },
     "metadata": {},
     "output_type": "display_data"
    },
    {
     "name": "stderr",
     "output_type": "stream",
     "text": [
      "🔁 Entraînement DQN:  33%|███▎      | 100/300 [06:46<11:28,  3.44s/episode, Reward=-0.2, Epsilon=0.60, AvgReward=-0.3, Loss=496.6520]"
     ]
    },
    {
     "data": {
      "text/plain": [
       "<Figure size 640x480 with 0 Axes>"
      ]
     },
     "metadata": {},
     "output_type": "display_data"
    },
    {
     "name": "stderr",
     "output_type": "stream",
     "text": [
      "🔁 Entraînement DQN:  37%|███▋      | 110/300 [07:18<10:16,  3.24s/episode, Reward=0.6, Epsilon=0.57, AvgReward=0.4, Loss=425.3530]  "
     ]
    },
    {
     "data": {
      "text/plain": [
       "<Figure size 640x480 with 0 Axes>"
      ]
     },
     "metadata": {},
     "output_type": "display_data"
    },
    {
     "name": "stderr",
     "output_type": "stream",
     "text": [
      "🔁 Entraînement DQN:  40%|████      | 120/300 [07:51<09:40,  3.23s/episode, Reward=0.4, Epsilon=0.55, AvgReward=1.2, Loss=262.1591] "
     ]
    },
    {
     "data": {
      "text/plain": [
       "<Figure size 640x480 with 0 Axes>"
      ]
     },
     "metadata": {},
     "output_type": "display_data"
    },
    {
     "name": "stderr",
     "output_type": "stream",
     "text": [
      "🔁 Entraînement DQN:  43%|████▎     | 130/300 [08:25<09:20,  3.30s/episode, Reward=3.1, Epsilon=0.52, AvgReward=3.9, Loss=222.7524] "
     ]
    },
    {
     "data": {
      "text/plain": [
       "<Figure size 640x480 with 0 Axes>"
      ]
     },
     "metadata": {},
     "output_type": "display_data"
    },
    {
     "name": "stderr",
     "output_type": "stream",
     "text": [
      "🔁 Entraînement DQN:  47%|████▋     | 140/300 [09:00<08:43,  3.27s/episode, Reward=-1.5, Epsilon=0.49, AvgReward=6.1, Loss=133.2757]"
     ]
    },
    {
     "data": {
      "text/plain": [
       "<Figure size 640x480 with 0 Axes>"
      ]
     },
     "metadata": {},
     "output_type": "display_data"
    },
    {
     "name": "stderr",
     "output_type": "stream",
     "text": [
      "🔁 Entraînement DQN:  50%|█████     | 150/300 [09:37<09:25,  3.77s/episode, Reward=-1.1, Epsilon=0.47, AvgReward=3.0, Loss=96.1244] "
     ]
    },
    {
     "data": {
      "text/plain": [
       "<Figure size 640x480 with 0 Axes>"
      ]
     },
     "metadata": {},
     "output_type": "display_data"
    },
    {
     "name": "stderr",
     "output_type": "stream",
     "text": [
      "🔁 Entraînement DQN:  53%|█████▎    | 160/300 [10:13<08:12,  3.52s/episode, Reward=2.8, Epsilon=0.45, AvgReward=1.8, Loss=119.1487] "
     ]
    },
    {
     "data": {
      "text/plain": [
       "<Figure size 640x480 with 0 Axes>"
      ]
     },
     "metadata": {},
     "output_type": "display_data"
    },
    {
     "name": "stderr",
     "output_type": "stream",
     "text": [
      "🔁 Entraînement DQN:  57%|█████▋    | 170/300 [10:49<07:41,  3.55s/episode, Reward=-0.6, Epsilon=0.42, AvgReward=4.2, Loss=47.3056]"
     ]
    },
    {
     "data": {
      "text/plain": [
       "<Figure size 640x480 with 0 Axes>"
      ]
     },
     "metadata": {},
     "output_type": "display_data"
    },
    {
     "name": "stderr",
     "output_type": "stream",
     "text": [
      "🔁 Entraînement DQN:  60%|██████    | 180/300 [11:24<07:00,  3.50s/episode, Reward=0.5, Epsilon=0.40, AvgReward=3.1, Loss=34.2668] "
     ]
    },
    {
     "data": {
      "text/plain": [
       "<Figure size 640x480 with 0 Axes>"
      ]
     },
     "metadata": {},
     "output_type": "display_data"
    },
    {
     "name": "stderr",
     "output_type": "stream",
     "text": [
      "🔁 Entraînement DQN:  63%|██████▎   | 190/300 [11:59<06:32,  3.57s/episode, Reward=1.4, Epsilon=0.38, AvgReward=1.0, Loss=41.4625] "
     ]
    },
    {
     "data": {
      "text/plain": [
       "<Figure size 640x480 with 0 Axes>"
      ]
     },
     "metadata": {},
     "output_type": "display_data"
    },
    {
     "name": "stderr",
     "output_type": "stream",
     "text": [
      "🔁 Entraînement DQN:  67%|██████▋   | 200/300 [12:34<06:12,  3.72s/episode, Reward=-1.3, Epsilon=0.37, AvgReward=0.0, Loss=29.8950]"
     ]
    },
    {
     "data": {
      "text/plain": [
       "<Figure size 640x480 with 0 Axes>"
      ]
     },
     "metadata": {},
     "output_type": "display_data"
    },
    {
     "name": "stderr",
     "output_type": "stream",
     "text": [
      "🔁 Entraînement DQN:  70%|███████   | 210/300 [13:31<09:06,  6.07s/episode, Reward=0.4, Epsilon=0.35, AvgReward=-0.4, Loss=21.3711] "
     ]
    },
    {
     "data": {
      "text/plain": [
       "<Figure size 640x480 with 0 Axes>"
      ]
     },
     "metadata": {},
     "output_type": "display_data"
    },
    {
     "name": "stderr",
     "output_type": "stream",
     "text": [
      "🔁 Entraînement DQN:  73%|███████▎  | 220/300 [14:27<07:12,  5.40s/episode, Reward=10.5, Epsilon=0.33, AvgReward=1.0, Loss=20.0818] "
     ]
    },
    {
     "data": {
      "text/plain": [
       "<Figure size 640x480 with 0 Axes>"
      ]
     },
     "metadata": {},
     "output_type": "display_data"
    },
    {
     "name": "stderr",
     "output_type": "stream",
     "text": [
      "🔁 Entraînement DQN:  77%|███████▋  | 230/300 [15:15<04:50,  4.15s/episode, Reward=14.2, Epsilon=0.31, AvgReward=6.1, Loss=13.7872]"
     ]
    },
    {
     "data": {
      "text/plain": [
       "<Figure size 640x480 with 0 Axes>"
      ]
     },
     "metadata": {},
     "output_type": "display_data"
    },
    {
     "name": "stderr",
     "output_type": "stream",
     "text": [
      "🔁 Entraînement DQN:  80%|████████  | 240/300 [15:55<04:22,  4.37s/episode, Reward=11.0, Epsilon=0.30, AvgReward=8.2, Loss=10.4803]"
     ]
    },
    {
     "data": {
      "text/plain": [
       "<Figure size 640x480 with 0 Axes>"
      ]
     },
     "metadata": {},
     "output_type": "display_data"
    },
    {
     "name": "stderr",
     "output_type": "stream",
     "text": [
      "🔁 Entraînement DQN:  83%|████████▎ | 250/300 [16:34<03:12,  3.85s/episode, Reward=4.0, Epsilon=0.28, AvgReward=5.2, Loss=10.2389] "
     ]
    },
    {
     "data": {
      "text/plain": [
       "<Figure size 640x480 with 0 Axes>"
      ]
     },
     "metadata": {},
     "output_type": "display_data"
    },
    {
     "name": "stderr",
     "output_type": "stream",
     "text": [
      "🔁 Entraînement DQN:  87%|████████▋ | 260/300 [17:14<02:41,  4.03s/episode, Reward=13.4, Epsilon=0.27, AvgReward=7.2, Loss=4.6563]"
     ]
    },
    {
     "data": {
      "text/plain": [
       "<Figure size 640x480 with 0 Axes>"
      ]
     },
     "metadata": {},
     "output_type": "display_data"
    },
    {
     "name": "stderr",
     "output_type": "stream",
     "text": [
      "🔁 Entraînement DQN:  90%|█████████ | 270/300 [17:50<01:45,  3.51s/episode, Reward=9.5, Epsilon=0.26, AvgReward=10.6, Loss=2.7809] "
     ]
    },
    {
     "data": {
      "text/plain": [
       "<Figure size 640x480 with 0 Axes>"
      ]
     },
     "metadata": {},
     "output_type": "display_data"
    },
    {
     "name": "stderr",
     "output_type": "stream",
     "text": [
      "🔁 Entraînement DQN:  93%|█████████▎| 280/300 [18:25<01:10,  3.52s/episode, Reward=10.7, Epsilon=0.24, AvgReward=9.9, Loss=3.5989] "
     ]
    },
    {
     "data": {
      "text/plain": [
       "<Figure size 640x480 with 0 Axes>"
      ]
     },
     "metadata": {},
     "output_type": "display_data"
    },
    {
     "name": "stderr",
     "output_type": "stream",
     "text": [
      "🔁 Entraînement DQN:  97%|█████████▋| 290/300 [19:00<00:33,  3.30s/episode, Reward=10.6, Epsilon=0.23, AvgReward=8.2, Loss=2.9265]"
     ]
    },
    {
     "data": {
      "text/plain": [
       "<Figure size 640x480 with 0 Axes>"
      ]
     },
     "metadata": {},
     "output_type": "display_data"
    },
    {
     "name": "stderr",
     "output_type": "stream",
     "text": [
      "🔁 Entraînement DQN: 100%|██████████| 300/300 [19:31<00:00,  3.90s/episode, Reward=12.9, Epsilon=0.22, AvgReward=6.9, Loss=3.7869]\n"
     ]
    }
   ],
   "source": [
    "# 7. Lancer l'entraînement\n",
    "print(\"\\n🚀 Début de l'entraînement...\")\n",
    "rewards, avg_rewards, losses = train_dqn(episodes=300)\n"
   ]
  },
  {
   "cell_type": "code",
   "execution_count": 23,
   "id": "7fc30df6",
   "metadata": {},
   "outputs": [
    {
     "name": "stderr",
     "output_type": "stream",
     "text": [
      "WARNING:absl:You are saving your model as an HDF5 file via `model.save()` or `keras.saving.save_model(model)`. This file format is considered legacy. We recommend using instead the native Keras format, e.g. `model.save('my_model.keras')` or `keras.saving.save_model(model, 'my_model.keras')`. \n"
     ]
    },
    {
     "name": "stdout",
     "output_type": "stream",
     "text": [
      "\n",
      "✅ Modèle sauvegardé dans '../models/dqn_final.h5'\n"
     ]
    }
   ],
   "source": [
    "# 8. Sauvegarde du modèle\n",
    "os.makedirs(\"../models\", exist_ok=True)\n",
    "model.save(\"../models/dqn_final.h5\")\n",
    "print(\"\\n✅ Modèle sauvegardé dans '../models/dqn_final.h5'\")"
   ]
  },
  {
   "cell_type": "code",
   "execution_count": 24,
   "id": "dd74cda4",
   "metadata": {},
   "outputs": [
    {
     "data": {
      "image/png": "[encoded data removed]",
      "text/plain": [
       "<Figure size 1200x500 with 2 Axes>"
      ]
     },
     "metadata": {},
     "output_type": "display_data"
    }
   ],
   "source": [
    "# 9. Visualisation finale\n",
    "plt.figure(figsize=(12, 5))\n",
    "\n",
    "plt.subplot(1, 2, 1)\n",
    "plt.plot(rewards)\n",
    "plt.title(\"Historique des récompenses\")\n",
    "plt.xlabel(\"Épisode\")\n",
    "plt.ylabel(\"Récompense\")\n",
    "\n",
    "plt.subplot(1, 2, 2)\n",
    "plt.hist(rewards, bins=20)\n",
    "plt.title(\"Distribution des récompenses\")\n",
    "plt.xlabel(\"Récompense\")\n",
    "plt.ylabel(\"Fréquence\")\n",
    "\n",
    "plt.tight_layout()\n",
    "plt.show()"
   ]
  },
  {
   "cell_type": "code",
   "execution_count": 26,
   "id": "835c8d7e",
   "metadata": {},
   "outputs": [
    {
     "ename": "NameError",
     "evalue": "name 'dqn_model' is not defined",
     "output_type": "error",
     "traceback": [
      "\u001b[31m---------------------------------------------------------------------------\u001b[39m",
      "\u001b[31mNameError\u001b[39m                                 Traceback (most recent call last)",
      "\u001b[36mCell\u001b[39m\u001b[36m \u001b[39m\u001b[32mIn[26]\u001b[39m\u001b[32m, line 2\u001b[39m\n\u001b[32m      1\u001b[39m \u001b[38;5;28;01mimport\u001b[39;00m\u001b[38;5;250m \u001b[39m\u001b[34;01mtorch\u001b[39;00m\n\u001b[32m----> \u001b[39m\u001b[32m2\u001b[39m torch.save(\u001b[43mdqn_model\u001b[49m.state_dict(), \u001b[33m\"\u001b[39m\u001b[33mtrained_dqn_model.pth\u001b[39m\u001b[33m\"\u001b[39m)\n",
      "\u001b[31mNameError\u001b[39m: name 'dqn_model' is not defined"
     ]
    }
   ],
   "source": [
    "import torch\n",
    "torch.save(dqn_model.state_dict(), \"trained_dqn_model.pth\")"
   ]
  },
  {
   "cell_type": "code",
   "execution_count": null,
   "id": "40d70a69",
   "metadata": {},
   "outputs": [],
   "source": []
  }
 ],
 "metadata": {
  "kernelspec": {
   "display_name": "base",
   "language": "python",
   "name": "python3"
  },
  "language_info": {
   "codemirror_mode": {
    "name": "ipython",
    "version": 3
   },
   "file_extension": ".py",
   "mimetype": "text/x-python",
   "name": "python",
   "nbconvert_exporter": "python",
   "pygments_lexer": "ipython3",
   "version": "3.12.9"
  }
 },
 "nbformat": 4,
 "nbformat_minor": 5
}
